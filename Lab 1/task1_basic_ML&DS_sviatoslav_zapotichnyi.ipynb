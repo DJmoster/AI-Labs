{
  "cells": [
    {
      "cell_type": "markdown",
      "metadata": {
        "id": "HXiPVw_feCSb"
      },
      "source": [
        "## Завдання на лабораторну работу №1\n",
        "\n",
        "В цій лабораторної роботі Вам буде запропоновано вирішити кілька завдань скориставшись засобами мови python. Рішення кожного завдання передбачає написання коду і демонстрація його працездатності на прикладах. За кожне вірно виконане завдання Ви отримуєте **1 бал**.\n",
        "\n",
        "**Роботи ідентифіковані як ІДЕНТИЧНІ одразу отримують 0 балів.**\n",
        "\n",
        "[зверніть увагу на типізацію функцій](https://docs.python.org/3/library/typing.html)\n",
        "\n",
        "```NB```: При написанні коду не забувайте видаляти ```pass```!"
      ]
    },
    {
      "cell_type": "markdown",
      "metadata": {
        "id": "TmyQqNDcZVsT"
      },
      "source": [
        "**Don't cheat!**"
      ]
    },
    {
      "cell_type": "markdown",
      "metadata": {
        "id": "IPQHbkSueCSf"
      },
      "source": [
        "Перед тим, як надіслати своє завдання на перевірку, вкажіть в назві файлу своє ім'я та прізвище!\n",
        "Наприклад: ```task1_basic_ML&DS_anastasiya_deineko.ipynb```"
      ]
    },
    {
      "cell_type": "markdown",
      "metadata": {
        "id": "OE2qgEaeeCSg"
      },
      "source": [
        "Завдання 1: На вхід функція приймає рядок s. Функція повинна повернути True якщо рядок є паліндромом та False – в протилежному випадку.\n",
        "\n",
        "Наприклад:\n",
        "\n",
        "*   `is_palindrome(s='anade') -> False`\n",
        "*   `is_palindrome(s='ana') -> True`\n",
        "\n",
        "\n"
      ]
    },
    {
      "cell_type": "code",
      "execution_count": 4,
      "metadata": {
        "id": "Kkp_Eb1jeCSg"
      },
      "outputs": [],
      "source": [
        "def is_palindrome(s: str) -> bool:\n",
        "  for i in range(0, int(len(s) / 2)):\n",
        "    if s[i] != s[len(s) - i - 1]:\n",
        "      return False\n",
        "  return True"
      ]
    },
    {
      "cell_type": "markdown",
      "metadata": {
        "id": "IyJBIte7eCSh"
      },
      "source": [
        "Завдання 2: Розв’язати квадратне рівняння $ax^2+bx + c = 0$.  Напишіть функцію,яка приймає параметри квадратного рівняння, а повертає одне рішення або декілька.\n",
        "\n",
        "Наприклад:  \n",
        "\n",
        "\n",
        "```\n",
        "solve_quad(a=1, b=-2, c=1) -> 1  \n",
        "solve_quad(a=1, b=0, c=-1) -> (-1, 1)  \n",
        "solve_quad(a=0, b=2, c=-1) -> 0.5\n",
        "```\n",
        "\n",
        "\n",
        "\n",
        "\n",
        "\n"
      ]
    },
    {
      "cell_type": "code",
      "execution_count": 97,
      "metadata": {
        "id": "T-fCGsPjeCSh"
      },
      "outputs": [
        {
          "data": {
            "text/plain": [
              "1.0"
            ]
          },
          "metadata": {},
          "output_type": "display_data"
        },
        {
          "data": {
            "text/plain": [
              "(-1.0, 1.0)"
            ]
          },
          "metadata": {},
          "output_type": "display_data"
        },
        {
          "data": {
            "text/plain": [
              "0.5"
            ]
          },
          "metadata": {},
          "output_type": "display_data"
        }
      ],
      "source": [
        "from math import sqrt\n",
        "\n",
        "def solve_quad(a: float, b: float, c: float) -> float | tuple[float] | None:\n",
        "  if a == 0:\n",
        "    return (-c / b)\n",
        "\n",
        "  D = b**2 - (4 * a * c)\n",
        "\n",
        "  if D == 0:\n",
        "    return -(b / (2 * a))\n",
        "  \n",
        "  elif D > 0:\n",
        "    x1 = (-b - sqrt(D)) / (2 * a)\n",
        "    x2 = (-b + sqrt(D)) / (2 * a)\n",
        "    return (x1, x2)\n",
        "\n",
        "  else:\n",
        "    return None\n",
        "  \n",
        "display(solve_quad(1, -2, 1))\n",
        "display(solve_quad(1, 0, -1))\n",
        "display(solve_quad(0, 2, -1))"
      ]
    },
    {
      "cell_type": "markdown",
      "metadata": {
        "id": "XTXSIYdYeCSh"
      },
      "source": [
        "Завдання 3: Реалізація функції merge. На вхід функція приймає 2 відсортованих масиви - `a` і `b`. Функція повинна повернути один відсортований масив, який містить всі елементи масивів `a` і `b`.\n",
        "\n",
        "Наприклад: `merge([1, 3, 3, 5], [3, 5, 5, 7]) -> [1, 3, 3, 3, 5, 5, 5, 7]`"
      ]
    },
    {
      "cell_type": "code",
      "execution_count": 98,
      "metadata": {
        "id": "nfXKB-nveCSh"
      },
      "outputs": [
        {
          "data": {
            "text/plain": [
              "[1, 3, 3, 3, 5, 5, 5, 7]"
            ]
          },
          "execution_count": 98,
          "metadata": {},
          "output_type": "execute_result"
        }
      ],
      "source": [
        "def merge(a: list[int], b: list[int]) -> list[int]:\n",
        "  k = 0\n",
        "  res = []\n",
        "  res_len = len(a) + len(b)\n",
        "\n",
        "  while k < res_len:\n",
        "    if len(a) == 0:\n",
        "      res = res + b\n",
        "      break\n",
        "\n",
        "    if len(b) == 0:\n",
        "      res = res + a\n",
        "      break\n",
        "\n",
        "    if a[0] < b[0]:\n",
        "      res.append(a[0])\n",
        "      del a[0]\n",
        "    \n",
        "    else:\n",
        "      res.append(b[0])\n",
        "      del b[0]\n",
        "\n",
        "    k += 1\n",
        "  return res\n",
        "\n",
        "merge([3, 5, 5, 7], [1, 3, 3, 5])\n"
      ]
    },
    {
      "cell_type": "markdown",
      "metadata": {
        "id": "Z4zl4_cNeCSi"
      },
      "source": [
        "Завдання 4: Реалізація алгоритму [MergeSort](https://ru.wikipedia.org/wiki/%D0%A1%D0%BE%D1%80%D1%82%D0%B8%D1%80%D0%BE%D0%B2%D0%BA%D0%B0_%D1%81%D0%BB%D0%B8%D1%8F%D0%BD%D0%B8%D0%B5%D0%BC)..\n",
        "\n",
        "Наприклад: `MergeSort([3, 1, 3, 5]) -> [1, 3, 3, 5]`"
      ]
    },
    {
      "cell_type": "code",
      "execution_count": 96,
      "metadata": {
        "id": "VhDE9sTyeCSi"
      },
      "outputs": [
        {
          "data": {
            "text/plain": [
              "[1, 3, 3, 5]"
            ]
          },
          "metadata": {},
          "output_type": "display_data"
        }
      ],
      "source": [
        "def MergeSort(arr: list[int]):\n",
        "  if len(arr) > 1:\n",
        "        r = len(arr)//2\n",
        "        L = arr[:r]\n",
        "        R = arr[r:]\n",
        "\n",
        "        MergeSort(L)\n",
        "        MergeSort(R)\n",
        "\n",
        "        i = j = k = 0\n",
        "\n",
        "        while i < len(L) and j < len(R):\n",
        "            if L[i] < R[j]:\n",
        "                arr[k] = L[i]\n",
        "                i += 1\n",
        "            else:\n",
        "                arr[k] = R[j]\n",
        "                j += 1\n",
        "            k += 1\n",
        "\n",
        "        while i < len(L):\n",
        "            arr[k] = L[i]\n",
        "            i += 1\n",
        "            k += 1\n",
        "\n",
        "        while j < len(R):\n",
        "            arr[k] = R[j]\n",
        "            j += 1\n",
        "            k += 1\n",
        "\n",
        "arr = [3, 1, 3, 5]\n",
        "MergeSort(arr)\n",
        "display(arr)\n",
        "  "
      ]
    },
    {
      "cell_type": "markdown",
      "metadata": {
        "id": "oiEEW3IKeCSj"
      },
      "source": [
        "## Знайомство з numpy."
      ]
    },
    {
      "cell_type": "markdown",
      "metadata": {
        "id": "eEtj358ceCSj"
      },
      "source": [
        "Всі завдання з цієї частини передбачають написання функції на мові Python, а так само приклади роботи цієї функції. При реалізації завдань потрібно використовувати методи з бібліотеки `numpy`. Рішення з циклами будуть оцінені в 0 балів.\n",
        "\n",
        "[базова документація](http://www.numpy.org)\n",
        "\n",
        "```NB```: Під матрицею розуміється двовимірний [numpy.array](https://docs.scipy.org/doc/numpy/reference/generated/numpy.array.html)\n",
        "\n",
        "Для підключення модуля скористайтеся наступним рядком.\n",
        "Використовуйте стандартне скорочення np."
      ]
    },
    {
      "cell_type": "code",
      "execution_count": 4,
      "metadata": {
        "id": "tpv_AzJzeCSj"
      },
      "outputs": [],
      "source": [
        "import numpy as np"
      ]
    },
    {
      "cell_type": "markdown",
      "metadata": {
        "id": "syBtY_AReCSj"
      },
      "source": [
        "Cтворення одномірного і двомірного масивів методами numpy:"
      ]
    },
    {
      "cell_type": "code",
      "execution_count": null,
      "metadata": {
        "id": "yfm0zbHJeCSj",
        "outputId": "e896f45e-df10-4364-f796-10032bd467cd"
      },
      "outputs": [
        {
          "name": "stdout",
          "output_type": "stream",
          "text": [
            "[1. 2. 3.]\n"
          ]
        }
      ],
      "source": [
        "Ar1d = np.array([1, 2, 3], dtype=np.float64)\n",
        "print(Ar1d)"
      ]
    },
    {
      "cell_type": "code",
      "execution_count": null,
      "metadata": {
        "id": "NO1tV1fteCSk",
        "outputId": "59fedd1c-9b1b-43a9-a689-822c7efb3927"
      },
      "outputs": [
        {
          "name": "stdout",
          "output_type": "stream",
          "text": [
            "[[1. 2.]\n",
            " [3. 4.]]\n"
          ]
        }
      ],
      "source": [
        "Ar2d = np.array([[1, 2],\n",
        "                [3, 4]], dtype=np.float)\n",
        "print(Ar2d)"
      ]
    },
    {
      "cell_type": "markdown",
      "metadata": {
        "id": "NZns18uoeCSk"
      },
      "source": [
        "Завдання 6: Написати функцію яка на вхід приймає 3 масиви – `X, Y, Z`. функція повертатиме `True` у випадку, коли вони рівні та `False` – якщо ні.\n",
        "\n",
        "Рекомендація до завдання: Не використовуйте оператор `==`"
      ]
    },
    {
      "cell_type": "code",
      "execution_count": null,
      "metadata": {
        "id": "nzv5GOlqeCSl"
      },
      "outputs": [],
      "source": [
        "def is_equal(X, Y, Z) -> bool:\n",
        "    return np.array_equal(X, Y) and np.array_equal(Y, Z)"
      ]
    },
    {
      "cell_type": "markdown",
      "metadata": {
        "id": "4vYN-bnIeCSl"
      },
      "source": [
        "Завдання 7: написати функцію, яка приймає на вході вектор рядок, а повертає вектор стовбець.\n",
        "\n",
        "Рекомендація до завдання: Забороняється використовувати операцію транспонування! Скористайтесь методом `reshape`."
      ]
    },
    {
      "cell_type": "code",
      "execution_count": 23,
      "metadata": {
        "id": "cwnufrdPeCSl"
      },
      "outputs": [
        {
          "data": {
            "text/plain": [
              "array([[0, 1, 2, 3, 4, 5]])"
            ]
          },
          "metadata": {},
          "output_type": "display_data"
        },
        {
          "data": {
            "text/plain": [
              "array([[0],\n",
              "       [1],\n",
              "       [2],\n",
              "       [3],\n",
              "       [4],\n",
              "       [5]])"
            ]
          },
          "metadata": {},
          "output_type": "display_data"
        },
        {
          "data": {
            "text/plain": [
              "array([[0],\n",
              "       [1],\n",
              "       [2],\n",
              "       [3],\n",
              "       [4],\n",
              "       [5]])"
            ]
          },
          "metadata": {},
          "output_type": "display_data"
        },
        {
          "data": {
            "text/plain": [
              "array([[0],\n",
              "       [1],\n",
              "       [2],\n",
              "       [3],\n",
              "       [4],\n",
              "       [5]])"
            ]
          },
          "metadata": {},
          "output_type": "display_data"
        }
      ],
      "source": [
        "def rot_vec(x):\n",
        "    shape = np.shape(x)\n",
        "\n",
        "    return np.reshape(\n",
        "        x,\n",
        "        (shape[0], shape[1]) if shape[0] > shape[1] else (shape[1], shape[0])\n",
        "    )\n",
        "\n",
        "a = np.arange(6).reshape((1,6))\n",
        "display(a)\n",
        "display(rot_vec(a))\n",
        "\n",
        "b = np.arange(6).reshape((6,1))\n",
        "display(b)\n",
        "display(rot_vec(b))"
      ]
    },
    {
      "cell_type": "markdown",
      "metadata": {
        "id": "uvi-JOAheCSl"
      },
      "source": [
        "Завдання 8: Написати функцію яка приймає на вхід двовимірний масив, а повертає масив з діагональними елементами цієї матриці.\n",
        "\n",
        "Наприклад: `[[1, 2], [3, 4]] -> [1 4]`"
      ]
    },
    {
      "cell_type": "code",
      "execution_count": 25,
      "metadata": {
        "id": "uBSPXOJkeCSl"
      },
      "outputs": [
        {
          "data": {
            "text/plain": [
              "array([[0, 1, 2],\n",
              "       [3, 4, 5],\n",
              "       [6, 7, 8]])"
            ]
          },
          "metadata": {},
          "output_type": "display_data"
        },
        {
          "data": {
            "text/plain": [
              "array([0, 4, 8])"
            ]
          },
          "metadata": {},
          "output_type": "display_data"
        }
      ],
      "source": [
        "def get_diag(X):\n",
        "    return np.diagonal(X)\n",
        "\n",
        "a = np.arange(9).reshape((3,3))\n",
        "display(a)\n",
        "display(get_diag(a))"
      ]
    },
    {
      "cell_type": "markdown",
      "metadata": {
        "id": "PvwgIU1veCSm"
      },
      "source": [
        "Завдання 9: Написати функцію яка приймає на вхід двомірний масив, а повертає масив елементів які знаходяться на другорядній діагоналі. Приклад: `[[1, 2], [3, 4]] -> [2 3]`"
      ]
    },
    {
      "cell_type": "code",
      "execution_count": 33,
      "metadata": {
        "id": "zIRKjQofeCSm"
      },
      "outputs": [
        {
          "data": {
            "text/plain": [
              "array([[0, 1, 2],\n",
              "       [3, 4, 5],\n",
              "       [6, 7, 8]])"
            ]
          },
          "metadata": {},
          "output_type": "display_data"
        },
        {
          "data": {
            "text/plain": [
              "array([2, 4, 6])"
            ]
          },
          "metadata": {},
          "output_type": "display_data"
        }
      ],
      "source": [
        "def sec_diag(X):\n",
        "    return np.diagonal(np.rot90(X))\n",
        "\n",
        "a = np.arange(9).reshape((3,3))\n",
        "display(a)\n",
        "display(sec_diag(a))"
      ]
    },
    {
      "cell_type": "markdown",
      "metadata": {
        "id": "TQ61tk7SeCSm"
      },
      "source": [
        "## Робота з бібліотекою pandas\n",
        "\n",
        "В наступній частині лабораторної роботи розглянемо бібліотеку pandas.\n",
        "Перед виконанням цієї частини необхідно завантажити датасет `titanic.csv`\n",
        "\n",
        "[основна документація цього розділу](https://pandas.pydata.org/)"
      ]
    },
    {
      "cell_type": "code",
      "execution_count": 36,
      "metadata": {
        "id": "Fbe_qcF0eCSm"
      },
      "outputs": [],
      "source": [
        "import pandas as pd\n",
        "\n",
        "dataset = pd.read_csv(\"titanic.csv\", sep=\",\", encoding=\"utf-8\")"
      ]
    },
    {
      "cell_type": "markdown",
      "metadata": {
        "id": "qTxYBLWdeCSm"
      },
      "source": [
        "Завдання 10: Кого більше - чоловіків чи жінок?"
      ]
    },
    {
      "cell_type": "code",
      "execution_count": 38,
      "metadata": {
        "id": "58MgIBEleCSm"
      },
      "outputs": [
        {
          "data": {
            "text/plain": [
              "Sex\n",
              "male      577\n",
              "female    314\n",
              "Name: count, dtype: int64"
            ]
          },
          "metadata": {},
          "output_type": "display_data"
        }
      ],
      "source": [
        "display(dataset[\"Sex\"].value_counts())"
      ]
    },
    {
      "cell_type": "markdown",
      "metadata": {
        "id": "ApLZCvNveCSm"
      },
      "source": [
        "Завдання 11: Виведіть наступні характеристики пасажирів: середній вік пасажирів, середній вік чоловіків, середній вік жінок, максимальний і мінімальний вік серед чоловіків і жінок."
      ]
    },
    {
      "cell_type": "code",
      "execution_count": 52,
      "metadata": {
        "id": "Sg59NcqLeCSn"
      },
      "outputs": [
        {
          "data": {
            "text/plain": [
              "'Avg all: 29.69911764705882'"
            ]
          },
          "metadata": {},
          "output_type": "display_data"
        },
        {
          "data": {
            "text/plain": [
              "'Avg male: 30.72664459161148'"
            ]
          },
          "metadata": {},
          "output_type": "display_data"
        },
        {
          "data": {
            "text/plain": [
              "'Avg female: 27.915708812260537'"
            ]
          },
          "metadata": {},
          "output_type": "display_data"
        },
        {
          "data": {
            "text/plain": [
              "'Max male: 80.0'"
            ]
          },
          "metadata": {},
          "output_type": "display_data"
        },
        {
          "data": {
            "text/plain": [
              "'Min male: 0.42'"
            ]
          },
          "metadata": {},
          "output_type": "display_data"
        },
        {
          "data": {
            "text/plain": [
              "'Max female: 63.0'"
            ]
          },
          "metadata": {},
          "output_type": "display_data"
        },
        {
          "data": {
            "text/plain": [
              "'Min female: 0.75'"
            ]
          },
          "metadata": {},
          "output_type": "display_data"
        }
      ],
      "source": [
        "display(\"Avg all: \" + str(dataset[\"Age\"].mean()))\n",
        "display(\"Avg male: \" + str(dataset.loc[dataset[\"Sex\"] == \"male\", \"Age\"].mean()))\n",
        "display(\"Avg female: \" + str(dataset.loc[dataset[\"Sex\"] == \"female\", \"Age\"].mean()))\n",
        "\n",
        "display(\"Max male: \" + str(dataset.loc[dataset[\"Sex\"] == \"male\", \"Age\"].max()))\n",
        "display(\"Min male: \" + str(dataset.loc[dataset[\"Sex\"] == \"male\", \"Age\"].min()))\n",
        "\n",
        "display(\"Max female: \" + str(dataset.loc[dataset[\"Sex\"] == \"female\", \"Age\"].max()))\n",
        "display(\"Min female: \" + str(dataset.loc[dataset[\"Sex\"] == \"female\", \"Age\"].min()))"
      ]
    },
    {
      "cell_type": "markdown",
      "metadata": {
        "id": "P5zkuX9VeCSn"
      },
      "source": [
        " ## Знайомство з бібліотекою matplotlib"
      ]
    },
    {
      "cell_type": "markdown",
      "metadata": {
        "id": "cYyqxB4MeCSn"
      },
      "source": [
        "Для початку ознайомтесь з [документацією](https://matplotlib.org/)"
      ]
    },
    {
      "cell_type": "markdown",
      "metadata": {
        "id": "pEt3gexreCSn"
      },
      "source": [
        "Завдання 12: Для наведених та реалізованих графіків Вам нобхідно зробити розширення (додати підписи, легенду тощо):\n",
        "\n",
        "$f_{1}(x) =  \\frac{sin(x)}{x}$\n",
        "\n",
        "$f_{2}(x) =  \\frac{cos(x)}{x^2 + 1}$\n",
        "\n",
        "$f_{3}(x) =  cos^2(x) - \\frac{sin(x)}{2}$  \n",
        "\n",
        "$f_{4}(x) =  cos(x)$  \n",
        "\n",
        "$f_{5}(x) =  \\frac{sin(x)}{x^2 + 1}$"
      ]
    },
    {
      "cell_type": "code",
      "execution_count": 54,
      "metadata": {
        "id": "YVT6yXXqeCSn"
      },
      "outputs": [],
      "source": [
        "from matplotlib import pylab as plt\n",
        "%matplotlib inline"
      ]
    },
    {
      "cell_type": "code",
      "execution_count": 64,
      "metadata": {
        "id": "UtB89oaVeCSn",
        "outputId": "48a50904-4cd7-4373-e09b-9c1c6004d418"
      },
      "outputs": [
        {
          "data": {
            "text/plain": [
              "<matplotlib.legend.Legend at 0x208f43a57b0>"
            ]
          },
          "execution_count": 64,
          "metadata": {},
          "output_type": "execute_result"
        },
        {
          "data": {
            "image/png": "[encoded data removed]",
            "text/plain": [
              "<Figure size 640x480 with 1 Axes>"
            ]
          },
          "metadata": {},
          "output_type": "display_data"
        }
      ],
      "source": [
        "x = [i for i in range (50)]\n",
        "y = [i**2 for i in range (50)]\n",
        "\n",
        "plt.title(\"Графік функції x^2\")\n",
        "plt.plot(x, y, \"r.\", label=\"y=x^2\")\n",
        "plt.legend()"
      ]
    },
    {
      "cell_type": "code",
      "execution_count": 76,
      "metadata": {
        "id": "tCJ2CuOAeCSo"
      },
      "outputs": [],
      "source": [
        "import matplotlib.pyplot as plt\n",
        "\n",
        "x = np.arange(-10, 10, 0.01)\n",
        "\n",
        "y1 = np.sin(x) / x\n",
        "y2 = np.cos(x) / (1. + x ** 2)\n",
        "y3 = np.cos(x) * np.cos(x) - np.sin(x) / 2."
      ]
    },
    {
      "cell_type": "code",
      "execution_count": 83,
      "metadata": {
        "id": "ki86Yt_XeCSo",
        "outputId": "543d5281-b728-4f43-d545-b60d2b8f7f04"
      },
      "outputs": [
        {
          "data": {
            "image/png": "[encoded data removed]",
            "text/plain": [
              "<Figure size 640x480 with 1 Axes>"
            ]
          },
          "metadata": {},
          "output_type": "display_data"
        }
      ],
      "source": [
        "plt.title(\"Графіки вказаних вище функцій\")\n",
        "\n",
        "plt.plot(x, y1, \".\", label=\"f1(x)\")\n",
        "plt.plot(x, y2, \"--\", label=\"f2(x)\")\n",
        "plt.plot(x, y3, \"\", label=\"f3(x)\")\n",
        "plt.legend()\n",
        "plt.show()"
      ]
    },
    {
      "cell_type": "code",
      "execution_count": 85,
      "metadata": {
        "id": "U3iVhlYeeCSo"
      },
      "outputs": [],
      "source": [
        "import matplotlib.pyplot as plt\n",
        "\n",
        "x = np.arange(-10, 10, 0.01)\n",
        "\n",
        "y4 = np.cos(x)\n",
        "y5 = np.sin(x) / (1. + x ** 2)"
      ]
    },
    {
      "cell_type": "code",
      "execution_count": 87,
      "metadata": {
        "id": "70fOVYjJeCSo",
        "outputId": "2e700e4d-1d73-4232-fc8b-8528146ac5e2"
      },
      "outputs": [
        {
          "data": {
            "text/plain": [
              "<matplotlib.legend.Legend at 0x208f5c864a0>"
            ]
          },
          "execution_count": 87,
          "metadata": {},
          "output_type": "execute_result"
        },
        {
          "data": {
            "image/png": "[encoded data removed]",
            "text/plain": [
              "<Figure size 640x480 with 1 Axes>"
            ]
          },
          "metadata": {},
          "output_type": "display_data"
        }
      ],
      "source": [
        "plt.title(\"Графіки вказаних вище функцій\")\n",
        "\n",
        "plt.plot(x, y4, \"g--\", label=\"f4(x)\")\n",
        "plt.plot(x, y5, \"r\", label=\"f5(x)\")\n",
        "\n",
        "plt.legend()"
      ]
    },
    {
      "cell_type": "markdown",
      "metadata": {
        "id": "Tg-QmR-eeCSp"
      },
      "source": [
        "Завдання 13: Для побудованого ргафіку щільності розподілу випадкової змінної Вам необхідно зробити доповнення (підписи, легенда тощо)."
      ]
    },
    {
      "cell_type": "code",
      "execution_count": 94,
      "metadata": {
        "id": "9Av3YD1NeCSp"
      },
      "outputs": [],
      "source": [
        "d = np.random.normal(loc=2.0, scale=3.5, size=1000)"
      ]
    },
    {
      "cell_type": "code",
      "execution_count": 95,
      "metadata": {
        "id": "rBQNcArUeCSp",
        "outputId": "1fe0b87a-762a-44c8-e965-c8c6a076a503"
      },
      "outputs": [
        {
          "data": {
            "image/png": "[encoded data removed]",
            "text/plain": [
              "<Figure size 640x480 with 1 Axes>"
            ]
          },
          "metadata": {},
          "output_type": "display_data"
        }
      ],
      "source": [
        "plt.title(\"Випадковий графік щільності нормального розподілу\")\n",
        "\n",
        "plt.hist(d, color=\"orange\")\n",
        "plt.show()"
      ]
    },
    {
      "cell_type": "markdown",
      "metadata": {
        "id": "mpBxw_8hTEJv"
      },
      "source": [
        "Кожне правильно виконане завдання оцінюється в `1 бал`."
      ]
    }
  ],
  "metadata": {
    "colab": {
      "provenance": []
    },
    "kernelspec": {
      "display_name": "Python 3",
      "language": "python",
      "name": "python3"
    },
    "language_info": {
      "codemirror_mode": {
        "name": "ipython",
        "version": 3
      },
      "file_extension": ".py",
      "mimetype": "text/x-python",
      "name": "python",
      "nbconvert_exporter": "python",
      "pygments_lexer": "ipython3",
      "version": "3.10.11"
    }
  },
  "nbformat": 4,
  "nbformat_minor": 0
}
